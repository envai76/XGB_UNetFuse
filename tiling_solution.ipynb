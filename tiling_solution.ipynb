{
 "cells": [
  {
   "metadata": {},
   "cell_type": "markdown",
   "source": "# Imports",
   "id": "4d4653ea0a8b9399"
  },
  {
   "metadata": {
    "ExecuteTime": {
     "end_time": "2025-10-11T21:06:36.260343Z",
     "start_time": "2025-10-11T21:06:36.140812Z"
    }
   },
   "cell_type": "code",
   "outputs": [
    {
     "name": "stderr",
     "output_type": "stream",
     "text": [
      "C:\\Users\\narges\\anaconda3\\envs\\tf-gpu-elina\\lib\\site-packages\\tqdm\\auto.py:21: TqdmWarning: IProgress not found. Please update jupyter and ipywidgets. See https://ipywidgets.readthedocs.io/en/stable/user_install.html\n",
      "  from .autonotebook import tqdm as notebook_tqdm\n"
     ]
    }
   ],
   "execution_count": 1,
   "source": [
    "import os\n",
    "import cv2\n",
    "import numpy as np\n",
    "import os\n",
    "from pqdm.threads import pqdm\n",
    "from functools import partial\n"
   ],
   "id": "314cd13c-eb42-4eff-80a6-f8c06eb9d376"
  },
  {
   "cell_type": "code",
   "id": "83cb47cd-ea3f-4d9e-91b7-1d831ed057ed",
   "metadata": {
    "ExecuteTime": {
     "end_time": "2025-10-11T21:06:45.351440Z",
     "start_time": "2025-10-11T21:06:44.024365Z"
    }
   },
   "source": [
    "import tensorflow as tf\n",
    "\n",
    "# List physical devices\n",
    "gpus = tf.config.list_physical_devices('GPU')\n",
    "if gpus:\n",
    "    print(f\"✅ GPU is available: {gpus}\")\n",
    "else:\n",
    "    print(\"❌ No GPU found. Running on CPU.\")\n"
   ],
   "outputs": [
    {
     "name": "stdout",
     "output_type": "stream",
     "text": [
      "✅ GPU is available: [PhysicalDevice(name='/physical_device:GPU:0', device_type='GPU')]\n"
     ]
    }
   ],
   "execution_count": 2
  },
  {
   "metadata": {},
   "cell_type": "markdown",
   "source": "# Definitions",
   "id": "b900466ccf035197"
  },
  {
   "cell_type": "code",
   "id": "a7e8854b-78d7-471f-8e88-32ae81ed8c9f",
   "metadata": {
    "ExecuteTime": {
     "end_time": "2025-10-11T21:15:30.695659Z",
     "start_time": "2025-10-11T21:15:30.675451Z"
    }
   },
   "source": [
    "\n",
    "\n",
    "def tile_image_with_padding(input_path, output_dir):\n",
    "    # Load the input image\n",
    "    animal_name= input_path.split('/')[-1].split(\".png\")[0]\n",
    "    # print(animal_name)\n",
    "    img = cv2.imread(input_path)\n",
    "    if img is None:\n",
    "        raise FileNotFoundError(f\"Image not found at path: {input_path}\")\n",
    "    # print(img.shape)\n",
    "    # if img.shape==(1400,1400,3):\n",
    "    #     # Add 3-pixel zero padding on all sides\n",
    "    #     padded_img = cv2.copyMakeBorder(img, 3, 3, 3, 3, borderType=cv2.BORDER_CONSTANT, value=0)\n",
    "    #\n",
    "    #     # Confirm padded image shape is 1406x1406\n",
    "    #     height, width = padded_img.shape[:2]\n",
    "    # else:\n",
    "    padded_img= img\n",
    "    if img.shape !=(1406,1406,3):\n",
    "        # print(input_path, \" size is : \", img.shape)\n",
    "        # assert height == 1400 and width == 1400, \"Padded image size is not 1400x1400\"\n",
    "        height, width = img.shape[:2]\n",
    "        target_size = 1406\n",
    "    \n",
    "        # Calculate padding required on each side\n",
    "        pad_top = (target_size - height) // 2\n",
    "        pad_bottom = target_size - height - pad_top\n",
    "        pad_left = (target_size - width) // 2\n",
    "        pad_right = target_size - width - pad_left\n",
    "\n",
    "        # Apply padding\n",
    "        padded_img = cv2.copyMakeBorder(img, pad_top, pad_bottom, pad_left, pad_right,\n",
    "                                         borderType=cv2.BORDER_CONSTANT, value=0)\n",
    "        padded_img_path = os.path.join(output_dir+'padded_images/', f\"{animal_name}_padded.png\")\n",
    "        os.makedirs(output_dir+'padded_images/', exist_ok=True)\n",
    "        cv2.imwrite(padded_img_path, padded_img)\n",
    "        # Confirm padded image is 1400x1400\n",
    "        assert padded_img.shape == (1406, 1406, 3), \\\n",
    "            f\"Padded image size is incorrect: {padded_img.shape}\"\n",
    "\n",
    "\n",
    "    # stride = 204\n",
    "    # tile_size = 256\n",
    "    # positions = [0, 230, 460, 690, 920, 1150]\n",
    "    # positions2= [26, 256 , 486 , 716 , 946 , 1176 , 1380]\n",
    "    # Draw vertical lines\n",
    "    # for x in positions:\n",
    "    #     cv2.line(padded_img, (x, 0), (x, padded_img.shape[0]), (0, 255, 0), 1)  # Green cut lines\n",
    "    #     cv2.line(padded_img, (x + tile_size, 0), (x + tile_size, padded_img.shape[0]), (0, 0, 255), 1)  # Red overlap line\n",
    "    #\n",
    "    # for x in positions2:\n",
    "    #     cv2.line(padded_img, (x, 0), (x, padded_img.shape[0]), (0, 255, 0), 1)  # Green cut lines\n",
    "        # cv2.line(padded_img, (x + tile_size, 0), (x + tile_size, padded_img.shape[0]), (0, 0, 255), 1)  # Red overlap line\n",
    "\n",
    "    \n",
    "    # # Draw horizontal lines\n",
    "    # for y in positions:\n",
    "    #     cv2.line(padded_img, (0, y), (padded_img.shape[1], y), (0, 255, 0), 1)\n",
    "    #     cv2.line(padded_img, (0, y + tile_size), (padded_img.shape[1], y + tile_size), (0, 0, 255), 1)\n",
    "\n",
    "\n",
    "    \n",
    "    # Define tiling parameters\n",
    "    tile_size = 256\n",
    "    stride = 204\n",
    "    x_starts = [0, 230, 460, 690, 920, 1150]\n",
    "    y_starts = x_starts  # since it's square\n",
    "\n",
    "    #\n",
    "    # tile_size = 512\n",
    "    # # stride = 408\n",
    "    # #43 overlaps\n",
    "    # x_starts = [0, 444, 888]\n",
    "    # y_starts = x_starts  # since it's square\n",
    "\n",
    "\n",
    "\n",
    "    # Make sure output directory exists\n",
    "    os.makedirs(output_dir, exist_ok=True)\n",
    "\n",
    "    # Generate tiles and save them\n",
    "    tile_count = 0\n",
    "    for y in y_starts:\n",
    "        for x in x_starts:\n",
    "            tile = padded_img[y:y + tile_size, x:x + tile_size]\n",
    "            tile_filename = f\"{animal_name}_{tile_count:03d}_x{x}_y{y}.png\"\n",
    "            cv2.imwrite(os.path.join(output_dir, tile_filename), tile)\n",
    "            # print(output_dir+tile_filename)\n",
    "            tile_count += 1\n",
    "\n",
    "    # print(f\"Saved {tile_count} tiles to '{output_dir}'\")\n"
   ],
   "outputs": [],
   "execution_count": 5
  },
  {
   "metadata": {},
   "cell_type": "markdown",
   "source": "## Example usage",
   "id": "7e31f3c2f3dcd725"
  },
  {
   "cell_type": "code",
   "id": "b6c49828-ba7c-4859-a444-2d9efdc111ed",
   "metadata": {
    "ExecuteTime": {
     "end_time": "2025-06-04T17:49:29.483990Z",
     "start_time": "2025-06-04T17:49:29.468989Z"
    }
   },
   "source": [
    "# image_path='./Datasets/test/regions/10ld2.png'\n",
    "# save_dir='./Datasets/test/regions_tiles1/'\n",
    "# tile_image_with_padding(image_path, save_dir)\n",
    "\n",
    "#\n",
    "# base_address='./Datasets/'\n",
    "# orig_files=['train/regions/', 'test/regions/',]\n",
    "# orig_tiles_files=['train/regions/', 'test/regions/'  ]\n",
    "# for i in range(len(orig_files)):\n",
    "#     for filename in os.listdir(base_address+orig_files[i]):\n",
    "#         tile_image_with_padding(base_address+orig_files[i]+filename, base_address+orig_tiles_files[i])\n",
    "\n"
   ],
   "outputs": [],
   "execution_count": 17
  },
  {
   "metadata": {},
   "cell_type": "markdown",
   "source": "# Run the code for tilling",
   "id": "a974bed885dbebc4"
  },
  {
   "cell_type": "code",
   "id": "90302157-276d-41e2-9f52-eaf03866eaf7",
   "metadata": {
    "ExecuteTime": {
     "end_time": "2025-10-11T21:18:37.708134Z",
     "start_time": "2025-10-11T21:17:53.887168Z"
    }
   },
   "source": [
    "# Base path\n",
    "base_address = './Dataset'\n",
    "\n",
    "# Subdirectories\n",
    "orig_files = ['/train/dic/', '/test/dic/', '/eval/dic/' ,\n",
    "              '/train/orig/', '/test/orig/', '/eval/orig/' ,\n",
    "              '/train/gt/', '/test/gt/',\n",
    "              '/train/regions/', '/test/regions/' ]\n",
    "\n",
    "orig_tiles_files = [ '/train/dic_tiles_256/', '/test/dic_tiles_256/', '/eval/dic_tiles_256/',\n",
    "                     '/train/orig_tiles_256/', '/test/orig_tiles_256/', '/eval/orig_tiles_256/' ,\n",
    "                     '/train/gt_tiles_256/', '/test/gt_tiles_256/' ,\n",
    "                     '/train/regions_tiles_256/', '/test/regions_tiles_256/']\n",
    "\n",
    "# Prepare list of (input_path, output_path) pairs\n",
    "jobs = []\n",
    "for i in range(len(orig_files)):\n",
    "    orig_dir = base_address + orig_files[i]\n",
    "    tile_dir = base_address + orig_tiles_files[i]\n",
    "    for filename in os.listdir(orig_dir):\n",
    "        input_path = os.path.join(orig_dir, filename)\n",
    "        jobs.append((input_path, tile_dir))\n",
    "\n",
    "def tile_wrapper(args):\n",
    "    input_path, output_dir = args\n",
    "    try:\n",
    "        tile_image_with_padding(input_path, output_dir)\n",
    "    except Exception as e:\n",
    "        print(f\"[ERROR] Failed on {input_path}: {e}\")\n",
    "        \n",
    "# Run with progress bar and multiprocessing\n",
    "pqdm(jobs, tile_wrapper, n_jobs=4)\n"
   ],
   "outputs": [
    {
     "name": "stderr",
     "output_type": "stream",
     "text": [
      "QUEUEING TASKS | : 100%|██████████| 2709/2709 [00:00<00:00, 181551.00it/s]\n",
      "PROCESSING TASKS | :  22%|██▏       | 604/2709 [00:16<00:56, 37.43it/s]\n"
     ]
    },
    {
     "ename": "KeyboardInterrupt",
     "evalue": "",
     "output_type": "error",
     "traceback": [
      "\u001B[1;31m---------------------------------------------------------------------------\u001B[0m",
      "\u001B[1;31mKeyboardInterrupt\u001B[0m                         Traceback (most recent call last)",
      "File \u001B[1;32m~\\anaconda3\\envs\\tf-gpu-elina\\lib\\site-packages\\pqdm\\_base.py:65\u001B[0m, in \u001B[0;36m_parallel_process\u001B[1;34m(iterable, function, n_jobs, executor, argument_type, exception_behaviour, tqdm_class, **kwargs)\u001B[0m\n\u001B[0;32m     63\u001B[0m processing_opts[\u001B[38;5;124m'\u001B[39m\u001B[38;5;124mtotal\u001B[39m\u001B[38;5;124m'\u001B[39m] \u001B[38;5;241m=\u001B[39m \u001B[38;5;28mlen\u001B[39m(futures)\n\u001B[1;32m---> 65\u001B[0m \u001B[38;5;28;01mfor\u001B[39;00m _ \u001B[38;5;129;01min\u001B[39;00m tqdm_class(as_completed(futures), \u001B[38;5;241m*\u001B[39m\u001B[38;5;241m*\u001B[39mprocessing_opts):\n\u001B[0;32m     66\u001B[0m     \u001B[38;5;28;01mpass\u001B[39;00m\n",
      "File \u001B[1;32m~\\anaconda3\\envs\\tf-gpu-elina\\lib\\site-packages\\tqdm\\std.py:1181\u001B[0m, in \u001B[0;36mtqdm.__iter__\u001B[1;34m(self)\u001B[0m\n\u001B[0;32m   1180\u001B[0m \u001B[38;5;28;01mtry\u001B[39;00m:\n\u001B[1;32m-> 1181\u001B[0m     \u001B[38;5;28;01mfor\u001B[39;00m obj \u001B[38;5;129;01min\u001B[39;00m iterable:\n\u001B[0;32m   1182\u001B[0m         \u001B[38;5;28;01myield\u001B[39;00m obj\n",
      "File \u001B[1;32m~\\anaconda3\\envs\\tf-gpu-elina\\lib\\concurrent\\futures\\_base.py:245\u001B[0m, in \u001B[0;36mas_completed\u001B[1;34m(fs, timeout)\u001B[0m\n\u001B[0;32m    241\u001B[0m         \u001B[38;5;28;01mraise\u001B[39;00m \u001B[38;5;167;01mTimeoutError\u001B[39;00m(\n\u001B[0;32m    242\u001B[0m                 \u001B[38;5;124m'\u001B[39m\u001B[38;5;132;01m%d\u001B[39;00m\u001B[38;5;124m (of \u001B[39m\u001B[38;5;132;01m%d\u001B[39;00m\u001B[38;5;124m) futures unfinished\u001B[39m\u001B[38;5;124m'\u001B[39m \u001B[38;5;241m%\u001B[39m (\n\u001B[0;32m    243\u001B[0m                 \u001B[38;5;28mlen\u001B[39m(pending), total_futures))\n\u001B[1;32m--> 245\u001B[0m \u001B[43mwaiter\u001B[49m\u001B[38;5;241;43m.\u001B[39;49m\u001B[43mevent\u001B[49m\u001B[38;5;241;43m.\u001B[39;49m\u001B[43mwait\u001B[49m\u001B[43m(\u001B[49m\u001B[43mwait_timeout\u001B[49m\u001B[43m)\u001B[49m\n\u001B[0;32m    247\u001B[0m \u001B[38;5;28;01mwith\u001B[39;00m waiter\u001B[38;5;241m.\u001B[39mlock:\n",
      "File \u001B[1;32m~\\anaconda3\\envs\\tf-gpu-elina\\lib\\threading.py:581\u001B[0m, in \u001B[0;36mEvent.wait\u001B[1;34m(self, timeout)\u001B[0m\n\u001B[0;32m    580\u001B[0m \u001B[38;5;28;01mif\u001B[39;00m \u001B[38;5;129;01mnot\u001B[39;00m signaled:\n\u001B[1;32m--> 581\u001B[0m     signaled \u001B[38;5;241m=\u001B[39m \u001B[38;5;28;43mself\u001B[39;49m\u001B[38;5;241;43m.\u001B[39;49m\u001B[43m_cond\u001B[49m\u001B[38;5;241;43m.\u001B[39;49m\u001B[43mwait\u001B[49m\u001B[43m(\u001B[49m\u001B[43mtimeout\u001B[49m\u001B[43m)\u001B[49m\n\u001B[0;32m    582\u001B[0m \u001B[38;5;28;01mreturn\u001B[39;00m signaled\n",
      "File \u001B[1;32m~\\anaconda3\\envs\\tf-gpu-elina\\lib\\threading.py:312\u001B[0m, in \u001B[0;36mCondition.wait\u001B[1;34m(self, timeout)\u001B[0m\n\u001B[0;32m    311\u001B[0m \u001B[38;5;28;01mif\u001B[39;00m timeout \u001B[38;5;129;01mis\u001B[39;00m \u001B[38;5;28;01mNone\u001B[39;00m:\n\u001B[1;32m--> 312\u001B[0m     \u001B[43mwaiter\u001B[49m\u001B[38;5;241;43m.\u001B[39;49m\u001B[43macquire\u001B[49m\u001B[43m(\u001B[49m\u001B[43m)\u001B[49m\n\u001B[0;32m    313\u001B[0m     gotit \u001B[38;5;241m=\u001B[39m \u001B[38;5;28;01mTrue\u001B[39;00m\n",
      "\u001B[1;31mKeyboardInterrupt\u001B[0m: ",
      "\nDuring handling of the above exception, another exception occurred:\n",
      "\u001B[1;31mKeyboardInterrupt\u001B[0m                         Traceback (most recent call last)",
      "Cell \u001B[1;32mIn[6], line 25\u001B[0m\n\u001B[0;32m     22\u001B[0m         \u001B[38;5;28mprint\u001B[39m(\u001B[38;5;124mf\u001B[39m\u001B[38;5;124m\"\u001B[39m\u001B[38;5;124m[ERROR] Failed on \u001B[39m\u001B[38;5;132;01m{\u001B[39;00minput_path\u001B[38;5;132;01m}\u001B[39;00m\u001B[38;5;124m: \u001B[39m\u001B[38;5;132;01m{\u001B[39;00me\u001B[38;5;132;01m}\u001B[39;00m\u001B[38;5;124m\"\u001B[39m)\n\u001B[0;32m     24\u001B[0m \u001B[38;5;66;03m# Run with progress bar and multiprocessing\u001B[39;00m\n\u001B[1;32m---> 25\u001B[0m \u001B[43mpqdm\u001B[49m\u001B[43m(\u001B[49m\u001B[43mjobs\u001B[49m\u001B[43m,\u001B[49m\u001B[43m \u001B[49m\u001B[43mtile_wrapper\u001B[49m\u001B[43m,\u001B[49m\u001B[43m \u001B[49m\u001B[43mn_jobs\u001B[49m\u001B[38;5;241;43m=\u001B[39;49m\u001B[38;5;241;43m4\u001B[39;49m\u001B[43m)\u001B[49m\n",
      "File \u001B[1;32m~\\anaconda3\\envs\\tf-gpu-elina\\lib\\site-packages\\pqdm\\threads.py:22\u001B[0m, in \u001B[0;36mpqdm\u001B[1;34m(array, function, n_jobs, argument_type, bounded, exception_behaviour, tqdm_class, **kwargs)\u001B[0m\n\u001B[0;32m     12\u001B[0m \u001B[38;5;28;01mdef\u001B[39;00m\u001B[38;5;250m \u001B[39m\u001B[38;5;21mpqdm\u001B[39m(\n\u001B[0;32m     13\u001B[0m     array: Iterable[Any],\n\u001B[0;32m     14\u001B[0m     function: Callable[[Any], Any],\n\u001B[1;32m   (...)\u001B[0m\n\u001B[0;32m     20\u001B[0m     \u001B[38;5;241m*\u001B[39m\u001B[38;5;241m*\u001B[39mkwargs\n\u001B[0;32m     21\u001B[0m ):\n\u001B[1;32m---> 22\u001B[0m     \u001B[38;5;28;01mreturn\u001B[39;00m _parallel_process(\n\u001B[0;32m     23\u001B[0m         iterable\u001B[38;5;241m=\u001B[39marray,\n\u001B[0;32m     24\u001B[0m         function\u001B[38;5;241m=\u001B[39mfunction,\n\u001B[0;32m     25\u001B[0m         argument_type\u001B[38;5;241m=\u001B[39margument_type,\n\u001B[0;32m     26\u001B[0m         n_jobs\u001B[38;5;241m=\u001B[39mn_jobs,\n\u001B[0;32m     27\u001B[0m         executor\u001B[38;5;241m=\u001B[39mBoundedThreadPoolExecutor \u001B[38;5;28;01mif\u001B[39;00m bounded \u001B[38;5;28;01melse\u001B[39;00m ThreadPoolExecutor,\n\u001B[0;32m     28\u001B[0m         exception_behaviour\u001B[38;5;241m=\u001B[39mexception_behaviour,\n\u001B[0;32m     29\u001B[0m         tqdm_class\u001B[38;5;241m=\u001B[39mtqdm_class,\n\u001B[0;32m     30\u001B[0m         \u001B[38;5;241m*\u001B[39m\u001B[38;5;241m*\u001B[39mkwargs\n\u001B[0;32m     31\u001B[0m     )\n",
      "File \u001B[1;32m~\\anaconda3\\envs\\tf-gpu-elina\\lib\\site-packages\\pqdm\\_base.py:66\u001B[0m, in \u001B[0;36m_parallel_process\u001B[1;34m(iterable, function, n_jobs, executor, argument_type, exception_behaviour, tqdm_class, **kwargs)\u001B[0m\n\u001B[0;32m     63\u001B[0m     processing_opts[\u001B[38;5;124m'\u001B[39m\u001B[38;5;124mtotal\u001B[39m\u001B[38;5;124m'\u001B[39m] \u001B[38;5;241m=\u001B[39m \u001B[38;5;28mlen\u001B[39m(futures)\n\u001B[0;32m     65\u001B[0m     \u001B[38;5;28;01mfor\u001B[39;00m _ \u001B[38;5;129;01min\u001B[39;00m tqdm_class(as_completed(futures), \u001B[38;5;241m*\u001B[39m\u001B[38;5;241m*\u001B[39mprocessing_opts):\n\u001B[1;32m---> 66\u001B[0m         \u001B[38;5;28;01mpass\u001B[39;00m\n\u001B[0;32m     68\u001B[0m collecting_opts \u001B[38;5;241m=\u001B[39m copy\u001B[38;5;241m.\u001B[39mcopy(tqdm_opts)\n\u001B[0;32m     69\u001B[0m collecting_opts[\u001B[38;5;124m'\u001B[39m\u001B[38;5;124mdesc\u001B[39m\u001B[38;5;124m'\u001B[39m] \u001B[38;5;241m=\u001B[39m \u001B[38;5;124m'\u001B[39m\u001B[38;5;124mCOLLECTING RESULTS | \u001B[39m\u001B[38;5;124m'\u001B[39m \u001B[38;5;241m+\u001B[39m collecting_opts\u001B[38;5;241m.\u001B[39mget(\u001B[38;5;124m'\u001B[39m\u001B[38;5;124mdesc\u001B[39m\u001B[38;5;124m'\u001B[39m, \u001B[38;5;124m'\u001B[39m\u001B[38;5;124m'\u001B[39m)\n",
      "File \u001B[1;32m~\\anaconda3\\envs\\tf-gpu-elina\\lib\\concurrent\\futures\\_base.py:637\u001B[0m, in \u001B[0;36mExecutor.__exit__\u001B[1;34m(self, exc_type, exc_val, exc_tb)\u001B[0m\n\u001B[0;32m    636\u001B[0m \u001B[38;5;28;01mdef\u001B[39;00m\u001B[38;5;250m \u001B[39m\u001B[38;5;21m__exit__\u001B[39m(\u001B[38;5;28mself\u001B[39m, exc_type, exc_val, exc_tb):\n\u001B[1;32m--> 637\u001B[0m     \u001B[38;5;28;43mself\u001B[39;49m\u001B[38;5;241;43m.\u001B[39;49m\u001B[43mshutdown\u001B[49m\u001B[43m(\u001B[49m\u001B[43mwait\u001B[49m\u001B[38;5;241;43m=\u001B[39;49m\u001B[38;5;28;43;01mTrue\u001B[39;49;00m\u001B[43m)\u001B[49m\n\u001B[0;32m    638\u001B[0m     \u001B[38;5;28;01mreturn\u001B[39;00m \u001B[38;5;28;01mFalse\u001B[39;00m\n",
      "File \u001B[1;32m~\\anaconda3\\envs\\tf-gpu-elina\\lib\\concurrent\\futures\\thread.py:235\u001B[0m, in \u001B[0;36mThreadPoolExecutor.shutdown\u001B[1;34m(self, wait, cancel_futures)\u001B[0m\n\u001B[0;32m    233\u001B[0m \u001B[38;5;28;01mif\u001B[39;00m wait:\n\u001B[0;32m    234\u001B[0m     \u001B[38;5;28;01mfor\u001B[39;00m t \u001B[38;5;129;01min\u001B[39;00m \u001B[38;5;28mself\u001B[39m\u001B[38;5;241m.\u001B[39m_threads:\n\u001B[1;32m--> 235\u001B[0m         \u001B[43mt\u001B[49m\u001B[38;5;241;43m.\u001B[39;49m\u001B[43mjoin\u001B[49m\u001B[43m(\u001B[49m\u001B[43m)\u001B[49m\n",
      "File \u001B[1;32m~\\anaconda3\\envs\\tf-gpu-elina\\lib\\threading.py:1060\u001B[0m, in \u001B[0;36mThread.join\u001B[1;34m(self, timeout)\u001B[0m\n\u001B[0;32m   1057\u001B[0m     \u001B[38;5;28;01mraise\u001B[39;00m \u001B[38;5;167;01mRuntimeError\u001B[39;00m(\u001B[38;5;124m\"\u001B[39m\u001B[38;5;124mcannot join current thread\u001B[39m\u001B[38;5;124m\"\u001B[39m)\n\u001B[0;32m   1059\u001B[0m \u001B[38;5;28;01mif\u001B[39;00m timeout \u001B[38;5;129;01mis\u001B[39;00m \u001B[38;5;28;01mNone\u001B[39;00m:\n\u001B[1;32m-> 1060\u001B[0m     \u001B[38;5;28;43mself\u001B[39;49m\u001B[38;5;241;43m.\u001B[39;49m\u001B[43m_wait_for_tstate_lock\u001B[49m\u001B[43m(\u001B[49m\u001B[43m)\u001B[49m\n\u001B[0;32m   1061\u001B[0m \u001B[38;5;28;01melse\u001B[39;00m:\n\u001B[0;32m   1062\u001B[0m     \u001B[38;5;66;03m# the behavior of a negative timeout isn't documented, but\u001B[39;00m\n\u001B[0;32m   1063\u001B[0m     \u001B[38;5;66;03m# historically .join(timeout=x) for x<0 has acted as if timeout=0\u001B[39;00m\n\u001B[0;32m   1064\u001B[0m     \u001B[38;5;28mself\u001B[39m\u001B[38;5;241m.\u001B[39m_wait_for_tstate_lock(timeout\u001B[38;5;241m=\u001B[39m\u001B[38;5;28mmax\u001B[39m(timeout, \u001B[38;5;241m0\u001B[39m))\n",
      "File \u001B[1;32m~\\anaconda3\\envs\\tf-gpu-elina\\lib\\threading.py:1080\u001B[0m, in \u001B[0;36mThread._wait_for_tstate_lock\u001B[1;34m(self, block, timeout)\u001B[0m\n\u001B[0;32m   1077\u001B[0m     \u001B[38;5;28;01mreturn\u001B[39;00m\n\u001B[0;32m   1079\u001B[0m \u001B[38;5;28;01mtry\u001B[39;00m:\n\u001B[1;32m-> 1080\u001B[0m     \u001B[38;5;28;01mif\u001B[39;00m \u001B[43mlock\u001B[49m\u001B[38;5;241;43m.\u001B[39;49m\u001B[43macquire\u001B[49m\u001B[43m(\u001B[49m\u001B[43mblock\u001B[49m\u001B[43m,\u001B[49m\u001B[43m \u001B[49m\u001B[43mtimeout\u001B[49m\u001B[43m)\u001B[49m:\n\u001B[0;32m   1081\u001B[0m         lock\u001B[38;5;241m.\u001B[39mrelease()\n\u001B[0;32m   1082\u001B[0m         \u001B[38;5;28mself\u001B[39m\u001B[38;5;241m.\u001B[39m_stop()\n",
      "\u001B[1;31mKeyboardInterrupt\u001B[0m: "
     ]
    }
   ],
   "execution_count": 6
  },
  {
   "metadata": {},
   "cell_type": "markdown",
   "source": "# Draw tile grid lines",
   "id": "b44c9ff41e4a8eb3"
  },
  {
   "cell_type": "code",
   "id": "efcccd8eaf9efd8f",
   "metadata": {
    "ExecuteTime": {
     "end_time": "2025-10-11T21:21:28.741199Z",
     "start_time": "2025-10-11T21:21:28.725111Z"
    }
   },
   "source": [
    "import cv2\n",
    "import numpy as np\n",
    "\n",
    "def draw_tile_grid(input_path, output_path):\n",
    "    # Load the image\n",
    "    img = cv2.imread(input_path)\n",
    "    if img is None:\n",
    "        raise FileNotFoundError(f\"Image not found at path: {input_path}\")\n",
    "    \n",
    "    # Pad with 3 pixels on all sides (zero padding)\n",
    "    padded_img = cv2.copyMakeBorder(img, 3, 3, 3, 3, cv2.BORDER_CONSTANT, value=0)\n",
    "\n",
    "    # Convert to color if grayscale, to draw colored lines\n",
    "    if len(padded_img.shape) == 2 or padded_img.shape[2] == 1:\n",
    "        padded_img = cv2.cvtColor(padded_img, cv2.COLOR_GRAY2BGR)\n",
    "\n",
    "    # Parameters\n",
    "    stride = 204\n",
    "    tile_size = 256\n",
    "    positions = [0, 230, 460, 690, 920, 1150]\n",
    "    positions2= [26, 256 , 486 , 716 , 946 , 1176 , 1380]\n",
    "\n",
    "    # tile_size = 512\n",
    "    # positions = [0, 444, 888]\n",
    "    # positions2= [512, 976 , 1400 ]\n",
    "    # Draw vertical lines\n",
    "    for x in positions:\n",
    "        cv2.line(padded_img, (x, 0), (x, padded_img.shape[0]), (0, 255, 0), 1)  # Green cut lines\n",
    "        cv2.line(padded_img, (x + tile_size, 0), (x + tile_size, padded_img.shape[0]), (0, 0, 255), 1)  # Red overlap line\n",
    "\n",
    "    # for x in positions2:\n",
    "    #     cv2.line(padded_img, (x, 0), (x, padded_img.shape[0]), (0, 255, 0), 1)  # Green cut lines\n",
    "    #     # cv2.line(padded_img, (x + tile_size, 0), (x + tile_size, padded_img.shape[0]), (0, 0, 255), 1)  # Red overlap line\n",
    "\n",
    "    \n",
    "    # Draw horizontal lines\n",
    "    for y in positions:\n",
    "        cv2.line(padded_img, (0, y), (padded_img.shape[1], y), (0, 255, 0), 1)\n",
    "        cv2.line(padded_img, (0, y + tile_size), (padded_img.shape[1], y + tile_size), (0, 0, 255), 1)\n",
    "    for x in positions:\n",
    "        for y in positions:\n",
    "            cv2.putText(padded_img, \"x: \"+str(x) , (x + 5, y + 20),\n",
    "                            cv2.FONT_HERSHEY_SIMPLEX, 0.9, (0, 200, 255), 3, cv2.LINE_AA)\n",
    "            cv2.putText(padded_img, \"y: \" +str(y), (x + 5, y + 50),\n",
    "                            cv2.FONT_HERSHEY_SIMPLEX, 0.9, (0, 200, 255), 3, cv2.LINE_AA)\n",
    "    # Save or display\n",
    "    if output_path:\n",
    "        cv2.imwrite(output_path, padded_img)\n",
    "        print(f\"Saved image with grid to {output_path}\")\n",
    "    # else:\n",
    "        # cv2.imshow(\"Tiling Grid\", padded_img)\n",
    "        # cv2.waitKey(0)\n",
    "        # cv2.destroyAllWindows()\n"
   ],
   "outputs": [],
   "execution_count": 7
  },
  {
   "metadata": {},
   "cell_type": "markdown",
   "source": "## Example usage",
   "id": "942a7d66feafcd48"
  },
  {
   "metadata": {
    "ExecuteTime": {
     "end_time": "2025-10-11T21:23:19.791892Z",
     "start_time": "2025-10-11T21:23:19.732883Z"
    }
   },
   "cell_type": "code",
   "source": [
    "\n",
    "image_path=\"./Dataset/train/orig/1ld1.png\"\n",
    "save_dir='./Dataset/tile_test/'\n",
    "draw_tile_grid(image_path, save_dir+\"orig_drw_lines.png\")\n"
   ],
   "id": "c6a8cebe-4fc8-445e-a51a-116e646d6c48",
   "outputs": [
    {
     "name": "stdout",
     "output_type": "stream",
     "text": [
      "Saved image with grid to ./Dataset/tile_test/_dic_drw_lines.png\n"
     ]
    }
   ],
   "execution_count": 12
  }
 ],
 "metadata": {
  "kernelspec": {
   "display_name": "Python (Elina1)",
   "language": "python",
   "name": "tf-gpu-elina"
  },
  "language_info": {
   "codemirror_mode": {
    "name": "ipython",
    "version": 3
   },
   "file_extension": ".py",
   "mimetype": "text/x-python",
   "name": "python",
   "nbconvert_exporter": "python",
   "pygments_lexer": "ipython3",
   "version": "3.9.18"
  }
 },
 "nbformat": 4,
 "nbformat_minor": 5
}
