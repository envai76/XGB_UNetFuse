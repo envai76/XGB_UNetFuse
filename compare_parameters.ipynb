{
 "cells": [
  {
   "cell_type": "code",
   "id": "initial_id",
   "metadata": {
    "collapsed": true,
    "ExecuteTime": {
     "end_time": "2025-10-15T17:08:59.248330Z",
     "start_time": "2025-10-15T17:08:58.829287Z"
    }
   },
   "source": [
    "import pandas as pd\n",
    "import os\n",
    "from glob import glob"
   ],
   "outputs": [],
   "execution_count": 1
  },
  {
   "metadata": {},
   "cell_type": "markdown",
   "source": "# Get average on regions un signed",
   "id": "f0547b4b6f56ed82"
  },
  {
   "metadata": {
    "ExecuteTime": {
     "end_time": "2025-10-09T17:19:11.790121Z",
     "start_time": "2025-10-09T17:19:11.776059Z"
    }
   },
   "cell_type": "code",
   "source": [
    "\n",
    "def get_avg_on_reg( csv_file   ):\n",
    "    df = pd.read_csv(csv_file)\n",
    "\n",
    "    for i in range(3):\n",
    "        region_code=str(i+1)\n",
    "        # Filter rows where 'name' ends with '3'\n",
    "        filtered = df[df['Animal Name'].astype(str).str.endswith(region_code)]\n",
    "\n",
    "        # Compute average error\n",
    "        avg_error = filtered['Abs Error rate enh'].mean()\n",
    "\n",
    "        print(f\"Average error for rows ending with {region_code}: {avg_error}\")\n"
   ],
   "id": "b502387dbcf69031",
   "outputs": [],
   "execution_count": 27
  },
  {
   "metadata": {
    "ExecuteTime": {
     "end_time": "2025-10-09T17:19:13.399884Z",
     "start_time": "2025-10-09T17:19:13.385162Z"
    }
   },
   "cell_type": "code",
   "source": [
    "def get_avg_on_reg(csv_file):\n",
    "    df = pd.read_csv(csv_file)\n",
    "    results = []\n",
    "    all_filtered = pd.DataFrame()  # For computing total average\n",
    "\n",
    "    for i in range(3):\n",
    "        region_code = str(i + 1)\n",
    "        filtered = df[df['Animal Name'].astype(str).str.endswith(region_code)]\n",
    "        avg_error = filtered['Abs Error rate enh'].mean()\n",
    "        results.append(avg_error)\n",
    "        all_filtered = pd.concat([all_filtered, filtered])\n",
    "\n",
    "    # Compute total average over all regions\n",
    "    avg_total = all_filtered['Abs Error rate enh'].mean()\n",
    "    results.append(avg_total)\n",
    "\n",
    "    return results"
   ],
   "id": "6dbde559caec320",
   "outputs": [],
   "execution_count": 28
  },
  {
   "metadata": {
    "ExecuteTime": {
     "end_time": "2025-10-09T18:31:20.235681Z",
     "start_time": "2025-10-09T18:31:20.143287Z"
    }
   },
   "cell_type": "code",
   "source": [
    "\n",
    "# Folder containing your CSV files\n",
    "folder_path = \"./results/Networks_AAE_ASE_comparisons/\"\n",
    "save_csv_address='./results/'\n",
    "\n",
    "csv_files = glob(os.path.join(folder_path, \"*.csv\"))\n",
    "\n",
    "# Store results\n",
    "all_results = []\n",
    "\n",
    "for file in csv_files:\n",
    "    avg_errors = get_avg_on_reg(file)\n",
    "    all_results.append([os.path.basename(file)] + avg_errors)\n",
    "\n",
    "# Convert to DataFrame\n",
    "results_df = pd.DataFrame(all_results, columns=[\"filename\", \"avg_region_1\", \"avg_region_2\", \"avg_region_3\", \"avg_total\"])\n",
    "\n",
    "# Save to CSV\n",
    "results_df.to_csv(os.path.join(save_csv_address, \"average_errors_per_region_train_test_signed.csv\"), index=False)\n",
    "\n",
    "print(\"Done! Results saved to 'average_errors_per_region.csv'\")\n"
   ],
   "id": "13b8b794fe04d597",
   "outputs": [
    {
     "name": "stdout",
     "output_type": "stream",
     "text": [
      "Done! Results saved to 'average_errors_per_region.csv'\n"
     ]
    }
   ],
   "execution_count": 33
  },
  {
   "metadata": {},
   "cell_type": "markdown",
   "source": "# Get regions signed",
   "id": "a77bdca56c979c1"
  },
  {
   "metadata": {},
   "cell_type": "code",
   "source": [
    "import pandas as pd\n",
    "import os\n",
    "import glob\n",
    "\n",
    "def get_avg_on_reg(csv_file):\n",
    "    df = pd.read_csv(csv_file)\n",
    "    results = []\n",
    "\n",
    "    # Create a combined DataFrame for total averages\n",
    "    all_filtered = pd.DataFrame()\n",
    "\n",
    "    # Loop over regions 1–3\n",
    "    for i in range(3):\n",
    "        region_code = str(i + 1)\n",
    "        filtered = df[df['Animal Name'].astype(str).str.endswith(region_code)]\n",
    "\n",
    "        # Mean absolute error (unsigned)\n",
    "        avg_abs_error = filtered['Abs Error rate enh'].mean()\n",
    "\n",
    "        # Mean signed error (can be negative or positive)\n",
    "        avg_signed_error = filtered['Error rate enh'].mean()\n",
    "\n",
    "        # Mean overestimation (positive signed errors)\n",
    "        avg_over = filtered.loc[filtered['Error rate enh'] > 0, 'Error rate enh'].mean()\n",
    "\n",
    "        # Mean underestimation (negative signed errors)\n",
    "        avg_under = filtered.loc[filtered['Error rate enh'] < 0, 'Error rate enh'].mean()\n",
    "\n",
    "        results.append([\n",
    "            avg_abs_error, avg_signed_error, avg_over, avg_under\n",
    "        ])\n",
    "        all_filtered = pd.concat([all_filtered, filtered])\n",
    "\n",
    "    # Compute overall (total) averages\n",
    "    total_abs = all_filtered['Abs Error rate enh'].mean()\n",
    "    total_signed = all_filtered['Error rate enh'].mean()\n",
    "    total_over = all_filtered.loc[all_filtered['Error rate enh'] > 0, 'Error rate enh'].mean()\n",
    "    total_under = all_filtered.loc[all_filtered['Error rate enh'] < 0, 'Error rate enh'].mean()\n",
    "\n",
    "    results.append([total_abs, total_signed, total_over, total_under])\n",
    "\n",
    "    return results\n"
   ],
   "id": "6ab8d86837675744",
   "outputs": [],
   "execution_count": null
  },
  {
   "metadata": {
    "ExecuteTime": {
     "end_time": "2025-10-09T18:37:24.747063Z",
     "start_time": "2025-10-09T18:37:24.609697Z"
    }
   },
   "cell_type": "code",
   "outputs": [
    {
     "name": "stdout",
     "output_type": "stream",
     "text": [
      "✅ Results saved to 'average_signed_abs_over_under_errors.csv'\n"
     ]
    }
   ],
   "execution_count": 34,
   "source": [
    "\n",
    "# Example usage\n",
    "folder_path = \"./results/Networks_AAE_ASE_comparisons/\"\n",
    "save_csv_address='./results/'\n",
    "csv_files = glob.glob(os.path.join(folder_path, \"*.csv\"))\n",
    "\n",
    "all_results = []\n",
    "\n",
    "for file in csv_files:\n",
    "    avg_errors = get_avg_on_reg(file)\n",
    "    # Flatten results for 3 regions + total (4 rows × 4 cols)\n",
    "    flat = [os.path.basename(file)]\n",
    "    for row in avg_errors:\n",
    "        flat.extend(row)\n",
    "    all_results.append(flat)\n",
    "\n",
    "# Create DataFrame\n",
    "columns = [\"filename\"] + \\\n",
    "           [f\"region_{i}_{col}\" for i in range(1, 4) for col in [\"abs\", \"signed\", \"over\", \"under\"]] + \\\n",
    "           [f\"total_{col}\" for col in [\"abs\", \"signed\", \"over\", \"under\"]]\n",
    "\n",
    "results_df = pd.DataFrame(all_results, columns=columns)\n",
    "\n",
    "# Save to CSV\n",
    "results_df.to_csv(os.path.join(save_csv_address, \"average_signed_abs_over_under_errors.csv\"), index=False)\n",
    "\n",
    "print(\"✅ Results saved to 'average_signed_abs_over_under_errors.csv'\")\n"
   ],
   "id": "9f7f41b2a201c90d"
  }
 ],
 "metadata": {
  "kernelspec": {
   "display_name": "Python 3",
   "language": "python",
   "name": "python3"
  },
  "language_info": {
   "codemirror_mode": {
    "name": "ipython",
    "version": 2
   },
   "file_extension": ".py",
   "mimetype": "text/x-python",
   "name": "python",
   "nbconvert_exporter": "python",
   "pygments_lexer": "ipython2",
   "version": "2.7.6"
  }
 },
 "nbformat": 4,
 "nbformat_minor": 5
}
